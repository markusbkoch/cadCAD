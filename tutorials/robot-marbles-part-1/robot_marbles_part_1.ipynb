{
  "nbformat": 4,
  "nbformat_minor": 0,
  "metadata": {
    "kernelspec": {
      "display_name": "Python 3",
      "language": "python",
      "name": "python3"
    },
    "language_info": {
      "codemirror_mode": {
        "name": "ipython",
        "version": 3
      },
      "file_extension": ".py",
      "mimetype": "text/x-python",
      "name": "python",
      "nbconvert_exporter": "python",
      "pygments_lexer": "ipython3",
      "version": "3.7.5"
    },
    "colab": {
      "name": "robot-marbles-part-1.ipynb",
      "provenance": []
    }
  },
  "cells": [
    {
      "cell_type": "code",
      "metadata": {
        "id": "Lp6mS8H-_Agw",
        "colab_type": "code",
        "colab": {}
      },
      "source": [
        "%%capture\n",
        "!curl -o scripts.py https://raw.githubusercontent.com/markusbkoch/cadCAD/google-colab/tutorials/robot-marbles-part-1/scripts.py\n",
        "!pip install cadCAD"
      ],
      "execution_count": 0,
      "outputs": []
    },
    {
      "cell_type": "code",
      "metadata": {
        "id": "CoC5bKhU_Ag4",
        "colab_type": "code",
        "colab": {},
        "cellView": "form"
      },
      "source": [
        "#@title How many marbles in box A? Then press Ctrl+F9 (or Cmd+F9) to run.\n",
        "marbles = 10 #@param {type:\"number\"}\n",
        "%matplotlib inline\n",
        "from scripts import run\n",
        "run(marbles)"
      ],
      "execution_count": 0,
      "outputs": []
    }
  ]
}