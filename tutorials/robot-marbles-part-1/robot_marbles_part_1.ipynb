{
  "nbformat": 4,
  "nbformat_minor": 0,
  "metadata": {
    "kernelspec": {
      "display_name": "Python 3",
      "language": "python",
      "name": "python3"
    },
    "language_info": {
      "codemirror_mode": {
        "name": "ipython",
        "version": 3
      },
      "file_extension": ".py",
      "mimetype": "text/x-python",
      "name": "python",
      "nbconvert_exporter": "python",
      "pygments_lexer": "ipython3",
      "version": "3.7.5"
    },
    "colab": {
      "name": "robot-marbles-part-1.ipynb",
      "provenance": []
    }
  },
  "cells": [
    {
      "cell_type": "code",
      "metadata": {
        "id": "Lp6mS8H-_Agw",
        "colab_type": "code",
        "colab": {}
      },
      "source": [
        "%%capture\n",
        "!pip install cadCAD"
      ],
      "execution_count": 0,
      "outputs": []
    },
    {
      "cell_type": "code",
      "metadata": {
        "id": "CoC5bKhU_Ag4",
        "colab_type": "code",
        "cellView": "form",
        "colab": {
          "base_uri": "https://localhost:8080/",
          "height": 449
        },
        "outputId": "3af09f4c-12d9-498e-f50d-e07a88508f17"
      },
      "source": [
        "#@title How many marbles in box A? Then press Ctrl+F9 (or Cmd+F9) to run.\n",
        "marbles = 10 #@param {type:\"number\"}\n",
        "%matplotlib inline\n",
        "def run(n):\n",
        "    #!/usr/bin/env python\n",
        "    # coding: utf-8\n",
        "\n",
        "    # In[1]:\n",
        "\n",
        "\n",
        "    # # # # # # # # # # # # # # # # # # # # # # # # # # # # # # # # # # # # # # # # # # # # # # # # \n",
        "    # List of all the state variables in the system and their initial values\n",
        "    initial_conditions = {\n",
        "        'box_A': n, # as per the description of the example, box_A starts out with 10 marbles in it\n",
        "        'box_B': 0 # as per the description of the example, box_B starts out empty\n",
        "    }\n",
        "    # # # # # # # # # # # # # # # # # # # # # # # # # # # # # # # # # # # # # # # # # # # # # # # # \n",
        "\n",
        "\n",
        "    # In[2]:\n",
        "\n",
        "\n",
        "    def update_A(params, step, sL, s, _input):\n",
        "        y = 'box_A'\n",
        "        add_to_A = 0\n",
        "        if (s['box_A'] > s['box_B']):\n",
        "            add_to_A = -1\n",
        "        elif (s['box_A'] < s['box_B']):\n",
        "            add_to_A = 1\n",
        "        x = s['box_A'] + add_to_A\n",
        "        return (y, x)\n",
        "\n",
        "    def update_B(params, step, sL, s, _input):\n",
        "        y = 'box_B'\n",
        "        add_to_B = 0\n",
        "        if (s['box_B'] > s['box_A']):\n",
        "            add_to_B = -1\n",
        "        elif (s['box_B'] < s['box_A']):\n",
        "            add_to_B = 1\n",
        "        x = s['box_B'] + add_to_B\n",
        "        return (y, x)\n",
        "\n",
        "\n",
        "    # In[3]:\n",
        "\n",
        "\n",
        "    # # # # # # # # # # # # # # # # # # # # # # # # # # # # # # # # # # # # # # # # # # # # # # # # \n",
        "    # In the Partial State Update Blocks, the user specifies if state update functions will be run in series or in parallel\n",
        "    partial_state_update_blocks = [\n",
        "        { \n",
        "            'policies': { # We'll ignore policies for now\n",
        "            },\n",
        "            'variables': { # The following state variables will be updated simultaneously\n",
        "                'box_A': update_A,\n",
        "                'box_B': update_B\n",
        "            }\n",
        "        }\n",
        "    ]\n",
        "    # # # # # # # # # # # # # # # # # # # # # # # # # # # # # # # # # # # # # # # # # # # # # # # # \n",
        "\n",
        "\n",
        "    # In[4]:\n",
        "\n",
        "\n",
        "    # # # # # # # # # # # # # # # # # # # # # # # # # # # # # # # # # # # # # # # # # # # # # # # # \n",
        "    # Settings of general simulation parameters, unrelated to the system itself\n",
        "    # `T` is a range with the number of discrete units of time the simulation will run for;\n",
        "    # `N` is the number of times the simulation will be run (Monte Carlo runs)\n",
        "    # In this example, we'll run the simulation once (N=1) and its duration will be of 10 timesteps\n",
        "    # We'll cover the `M` key in a future article. For now, let's leave it empty\n",
        "    simulation_parameters = {\n",
        "        'T': range(10),\n",
        "        'N': 1,\n",
        "        'M': {}\n",
        "    }\n",
        "    # # # # # # # # # # # # # # # # # # # # # # # # # # # # # # # # # # # # # # # # # # # # # # # # \n",
        "\n",
        "\n",
        "    # In[5]:\n",
        "\n",
        "\n",
        "    from cadCAD.configuration import Configuration\n",
        "\n",
        "    # # # # # # # # # # # # # # # # # # # # # # # # # # # # # # # # # # # # # # # # # # # # # # # # \n",
        "    # The configurations above are then packaged into a `Configuration` object\n",
        "    config = Configuration(initial_state=initial_conditions, #dict containing variable names and initial values\n",
        "                           partial_state_update_blocks=partial_state_update_blocks, #dict containing state update functions\n",
        "                           sim_config=simulation_parameters #dict containing simulation parameters\n",
        "                          )\n",
        "\n",
        "\n",
        "    # In[6]:\n",
        "\n",
        "\n",
        "    from cadCAD.engine import ExecutionMode, ExecutionContext, Executor\n",
        "    exec_mode = ExecutionMode()\n",
        "    exec_context = ExecutionContext(exec_mode.single_proc)\n",
        "    executor = Executor(exec_context, [config])\n",
        "    raw_result, tensor = executor.execute() \n",
        "\n",
        "\n",
        "    # In[7]:\n",
        "\n",
        "\n",
        "    import pandas as pd\n",
        "    df = pd.DataFrame(raw_result)\n",
        "    df.set_index(['run', 'timestep', 'substep'])\n",
        "    df.plot('timestep', ['box_A', 'box_B'], grid=True, \n",
        "        colormap = 'RdYlGn',\n",
        "        xticks=list(df['timestep'].drop_duplicates()), \n",
        "        yticks=list(range(1+(df['box_A']+df['box_B']).max())))\n",
        "run(marbles)"
      ],
      "execution_count": 23,
      "outputs": [
        {
          "output_type": "stream",
          "text": [
            "\n",
            "                            __________   ____ \n",
            "          ________ __ _____/ ____/   |  / __ \\\n",
            "         / ___/ __` / __  / /   / /| | / / / /\n",
            "        / /__/ /_/ / /_/ / /___/ ___ |/ /_/ / \n",
            "        \\___/\\__,_/\\__,_/\\____/_/  |_/_____/  \n",
            "        by BlockScience\n",
            "        \n",
            "Execution Mode: single_proc: [<cadCAD.configuration.Configuration object at 0x7f24aa58a470>]\n",
            "Configurations: [<cadCAD.configuration.Configuration object at 0x7f24aa58a470>]\n"
          ],
          "name": "stdout"
        },
        {
          "output_type": "display_data",
          "data": {
            "image/png": "[encoded data removed]",
            "text/plain": [
              "<Figure size 432x288 with 1 Axes>"
            ]
          },
          "metadata": {
            "tags": []
          }
        }
      ]
    }
  ]
}